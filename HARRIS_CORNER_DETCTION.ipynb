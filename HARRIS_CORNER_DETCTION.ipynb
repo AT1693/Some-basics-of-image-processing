{
  "nbformat": 4,
  "nbformat_minor": 0,
  "metadata": {
    "colab": {
      "name": "HARRIS-CORNER DETCTION.ipynb",
      "provenance": []
    },
    "kernelspec": {
      "name": "python3",
      "display_name": "Python 3"
    }
  },
  "cells": [
    {
      "cell_type": "code",
      "metadata": {
        "id": "H1T-Iz2Mvzp_",
        "colab_type": "code",
        "colab": {}
      },
      "source": [
        "import cv2 as cv \n",
        "import numpy as np\n",
        "from google.colab.patches import cv2_imshow\n"
      ],
      "execution_count": 0,
      "outputs": []
    },
    {
      "cell_type": "code",
      "metadata": {
        "id": "Ib4PXoZSv5Ta",
        "colab_type": "code",
        "colab": {}
      },
      "source": [
        "filename = 'download.png'\n",
        "img = cv.imread(filename)\n",
        "gray = cv.cvtColor(img,cv.COLOR_BGR2GRAY)\n",
        "\n"
      ],
      "execution_count": 0,
      "outputs": []
    },
    {
      "cell_type": "code",
      "metadata": {
        "id": "vc79w_CGv7TR",
        "colab_type": "code",
        "colab": {}
      },
      "source": [
        "gray = np.float32(gray)\n",
        "dst = cv.cornerHarris(gray,2,3,0.04)\n",
        "\n"
      ],
      "execution_count": 0,
      "outputs": []
    },
    {
      "cell_type": "code",
      "metadata": {
        "id": "lpY3H70XzaTb",
        "colab_type": "code",
        "colab": {}
      },
      "source": [
        "dst = cv.dilate(dst,None)\n",
        "img[dst>0.01*dst.max()]=[0,0,255]\n",
        "\n"
      ],
      "execution_count": 0,
      "outputs": []
    },
    {
      "cell_type": "code",
      "metadata": {
        "id": "2aMVK_4kzb4z",
        "colab_type": "code",
        "outputId": "1205873c-acf4-4411-ef3e-fca5c74e5113",
        "colab": {
          "base_uri": "https://localhost:8080/",
          "height": 465
        }
      },
      "source": [
        "cv2_imshow(gray)\n",
        "cv2_imshow(img)\n",
        "cv2_imshow(dst)\n",
        "if cv.waitKey(0) & 0xff == 27:\n",
        "    cv.destroyAllWindows()"
      ],
      "execution_count": 5,
      "outputs": [
        {
          "output_type": "display_data",
          "data": {
            "image/png": "[encoded data removed]",
            "text/plain": [
              "<PIL.Image.Image image mode=L size=240x149 at 0x7F1D3D4EAF98>"
            ]
          },
          "metadata": {
            "tags": []
          }
        },
        {
          "output_type": "display_data",
          "data": {
            "image/png": "[encoded data removed]",
            "text/plain": [
              "<PIL.Image.Image image mode=RGB size=240x149 at 0x7F1D3D466438>"
            ]
          },
          "metadata": {
            "tags": []
          }
        },
        {
          "output_type": "display_data",
          "data": {
            "image/png": "[encoded data removed]",
            "text/plain": [
              "<PIL.Image.Image image mode=L size=240x149 at 0x7F1D3D4EAF60>"
            ]
          },
          "metadata": {
            "tags": []
          }
        }
      ]
    }
  ]
}