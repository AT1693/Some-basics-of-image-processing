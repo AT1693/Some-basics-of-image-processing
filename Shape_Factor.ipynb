{
  "nbformat": 4,
  "nbformat_minor": 0,
  "metadata": {
    "colab": {
      "name": "Untitled4.ipynb",
      "provenance": []
    },
    "kernelspec": {
      "name": "python3",
      "display_name": "Python 3"
    }
  },
  "cells": [
    {
      "cell_type": "code",
      "metadata": {
        "id": "ZXs9sJ0wzZBr",
        "colab_type": "code",
        "outputId": "e0ff7413-696e-42bc-901f-a9372da1f790",
        "colab": {
          "base_uri": "https://localhost:8080/",
          "height": 54
        }
      },
      "source": [
        "import numpy as np\n",
        "import cv2\n",
        "im = cv2.imread('download.jpg')\n",
        "imgray = cv2.cvtColor(im, cv.COLOR_BGR2GRAY)\n",
        "ret, thresh = cv2.threshold(imgray, 127, 255, 0)\n",
        "_ , contours, _ = cv2.findContours(thresh,1,2)\n",
        "\n",
        "cnt = contours[0]\n",
        "M = cv2.moments(cnt)\n",
        "print(M)"
      ],
      "execution_count": 0,
      "outputs": [
        {
          "output_type": "stream",
          "text": [
            "{'m00': 26791.0, 'm10': 3000512.5, 'm01': 3000545.0, 'm20': 393169108.6666666, 'm11': 336055872.4166666, 'm02': 393172277.5, 'm30': 56828457680.25, 'm21': 44034890517.583336, 'm12': 44034959168.416664, 'm03': 56828698001.5, 'mu20': 57120612.430757165, 'mu11': 3736.277198135853, 'mu02': 57116501.41754693, 'mu30': 6021.839485168457, 'mu21': -196812.3818101883, 'mu12': -6119.47664642334, 'mu03': 196755.44482421875, 'nu20': 0.0795820287860593, 'nu11': 5.205485496066538e-06, 'nu02': 0.07957630120790993, 'nu30': 5.125743434495068e-08, 'nu21': -1.6752518501623401e-06, 'nu12': -5.2088514348822535e-08, 'nu03': 1.6747672069188062e-06}\n"
          ],
          "name": "stdout"
        }
      ]
    },
    {
      "cell_type": "code",
      "metadata": {
        "id": "oAYUZAyg1-pP",
        "colab_type": "code",
        "colab": {}
      },
      "source": [
        "cx = int(M['m10']/M['m00'])\n",
        "cy = int(M['m01']/M['m00'])"
      ],
      "execution_count": 0,
      "outputs": []
    },
    {
      "cell_type": "code",
      "metadata": {
        "id": "XO6c9dsnzyvG",
        "colab_type": "code",
        "colab": {}
      },
      "source": [
        "area = cv2.contourArea(cnt)\n",
        "perimeter = cv2.arcLength(cnt,True)"
      ],
      "execution_count": 0,
      "outputs": []
    },
    {
      "cell_type": "code",
      "metadata": {
        "id": "P0kZE_Kc2G-m",
        "colab_type": "code",
        "outputId": "1469d8b3-6c5f-4beb-ab15-f15bd0bfb87d",
        "colab": {
          "base_uri": "https://localhost:8080/",
          "height": 68
        }
      },
      "source": [
        "s=(perimeter*perimeter/area)\n",
        "print(perimeter)\n",
        "print(area)\n",
        "print(s)"
      ],
      "execution_count": 0,
      "outputs": [
        {
          "output_type": "stream",
          "text": [
            "611.8132705688477\n",
            "26791.0\n",
            "13.971687433994624\n"
          ],
          "name": "stdout"
        }
      ]
    }
  ]
}