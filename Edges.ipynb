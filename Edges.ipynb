{
  "nbformat": 4,
  "nbformat_minor": 0,
  "metadata": {
    "colab": {
      "name": "Edges.ipynb",
      "provenance": []
    },
    "kernelspec": {
      "name": "python3",
      "display_name": "Python 3"
    }
  },
  "cells": [
    {
      "cell_type": "code",
      "metadata": {
        "id": "BHkYBUvjwGqV",
        "colab_type": "code",
        "colab": {}
      },
      "source": [
        "import cv2\n",
        "import numpy as np\n",
        "from matplotlib import pyplot as plt\n"
      ],
      "execution_count": 0,
      "outputs": []
    },
    {
      "cell_type": "code",
      "metadata": {
        "id": "c2Evas_3wJdJ",
        "colab_type": "code",
        "colab": {}
      },
      "source": [
        "\n",
        "img = cv2.imread('hi.jpg',0)\n",
        "edges = cv2.Canny(img,100,200)\n",
        "\n"
      ],
      "execution_count": 0,
      "outputs": []
    },
    {
      "cell_type": "code",
      "metadata": {
        "id": "twLJ1F_GwKww",
        "colab_type": "code",
        "outputId": "33e52e26-d55d-498c-d6e3-2e07091b5fb7",
        "colab": {
          "base_uri": "https://localhost:8080/",
          "height": 255
        }
      },
      "source": [
        "plt.subplot(122),plt.imshow(edges,cmap = 'gray')\n",
        "plt.title('Edge Image'), plt.xticks([]), plt.yticks([])\n",
        "\n"
      ],
      "execution_count": 0,
      "outputs": [
        {
          "output_type": "execute_result",
          "data": {
            "text/plain": [
              "(Text(0.5, 1.0, 'Edge Image'),\n",
              " ([], <a list of 0 Text xticklabel objects>),\n",
              " ([], <a list of 0 Text yticklabel objects>))"
            ]
          },
          "metadata": {
            "tags": []
          },
          "execution_count": 8
        },
        {
          "output_type": "display_data",
          "data": {
            "image/png": "[encoded data removed]",
            "text/plain": [
              "<Figure size 432x288 with 1 Axes>"
            ]
          },
          "metadata": {
            "tags": []
          }
        }
      ]
    },
    {
      "cell_type": "code",
      "metadata": {
        "id": "HVBxtzcxwL6r",
        "colab_type": "code",
        "colab": {}
      },
      "source": [
        "plt.show()"
      ],
      "execution_count": 0,
      "outputs": []
    }
  ]
}